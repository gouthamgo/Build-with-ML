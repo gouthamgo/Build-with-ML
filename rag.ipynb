{
  "nbformat": 4,
  "nbformat_minor": 0,
  "metadata": {
    "colab": {
      "provenance": [],
      "gpuType": "T4",
      "authorship_tag": "ABX9TyON72SajY+fAdzLFQO87jo9",
      "include_colab_link": true
    },
    "kernelspec": {
      "name": "python3",
      "display_name": "Python 3"
    },
    "language_info": {
      "name": "python"
    },
    "accelerator": "GPU"
  },
  "cells": [
    {
      "cell_type": "markdown",
      "metadata": {
        "id": "view-in-github",
        "colab_type": "text"
      },
      "source": [
        "<a href=\"https://colab.research.google.com/github/gouthamgo/Build-with-llms/blob/simple-rag/rag.ipynb\" target=\"_parent\"><img src=\"https://colab.research.google.com/assets/colab-badge.svg\" alt=\"Open In Colab\"/></a>"
      ]
    },
    {
      "cell_type": "code",
      "execution_count": null,
      "metadata": {
        "id": "xlpHezKsKdeW"
      },
      "outputs": [],
      "source": [
        "!pip install langchain langchain-community chromadb pypdf pymupdf sentence-transformers --quiet"
      ]
    },
    {
      "cell_type": "code",
      "source": [
        "from langchain_community.document_loaders import PyMuPDFLoader\n",
        "\n",
        "file_path = \"pdf1.pdf\"\n",
        "loader = PyMuPDFLoader(file_path)\n",
        "\n",
        "pages = loader.load()\n",
        "\n",
        "print(pages[0].page_content)"
      ],
      "metadata": {
        "id": "I1Wlyv5WP3gT"
      },
      "execution_count": null,
      "outputs": []
    },
    {
      "cell_type": "code",
      "source": [
        "from langchain_text_splitters import RecursiveCharacterTextSplitter\n",
        "\n",
        "text_splitter = RecursiveCharacterTextSplitter(\n",
        "    chunk_size = 200,\n",
        "    chunk_overlap=50\n",
        ")\n",
        "\n",
        "docs = text_splitter.split_documents(pages)\n",
        "print(docs[0].page_content)"
      ],
      "metadata": {
        "id": "57E4FeX0Q5bd"
      },
      "execution_count": null,
      "outputs": []
    },
    {
      "cell_type": "code",
      "source": [
        "from langchain_community.embeddings import HuggingFaceEmbeddings\n",
        "\n",
        "embedding_model = HuggingFaceEmbeddings(\n",
        "    model_name = \"sentence-transformers/all-MiniLM-L6-v2\"\n",
        ")\n",
        "\n",
        "sample_text = docs[0].page_content\n",
        "embedding_vector = embedding_model.embed_query(sample_text)\n",
        "\n",
        "print(len(embedding_vector))\n",
        "print(embedding_vector[:5])"
      ],
      "metadata": {
        "id": "V9VrXEurRvo5"
      },
      "execution_count": null,
      "outputs": []
    },
    {
      "cell_type": "code",
      "source": [
        "from langchain_community.vectorstores import Chroma\n",
        "\n",
        "vectorstore = Chroma.from_documents(\n",
        "    documents = docs,\n",
        "    embedding = embedding_model,\n",
        "    persist_directory = \"chroma_db\"\n",
        "\n",
        "\n",
        ")\n",
        "\n",
        "vectorstore.persist()\n"
      ],
      "metadata": {
        "id": "ByY-2sK3S1SV"
      },
      "execution_count": null,
      "outputs": []
    },
    {
      "cell_type": "code",
      "source": [
        "retriever = vectorstore.as_retriever()\n",
        "\n",
        "query = \"What are class a stocks?\"\n",
        "results = retriever.get_relevant_documents(query)\n",
        "print(results[0].page_content)"
      ],
      "metadata": {
        "id": "-Nl6A4ERTYgi"
      },
      "execution_count": null,
      "outputs": []
    }
  ]
}