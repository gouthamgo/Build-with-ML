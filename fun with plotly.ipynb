{
  "nbformat": 4,
  "nbformat_minor": 0,
  "metadata": {
    "colab": {
      "provenance": [],
      "authorship_tag": "ABX9TyPxkuQHJBN4NsV/flz/qpxK"
    },
    "kernelspec": {
      "name": "python3",
      "display_name": "Python 3"
    },
    "language_info": {
      "name": "python"
    }
  },
  "cells": [
    {
      "cell_type": "code",
      "source": [
        "!pip install scikit-learn pandas matplotlib seaborn\n"
      ],
      "metadata": {
        "colab": {
          "base_uri": "https://localhost:8080/"
        },
        "id": "3PswYENPVZV4",
        "outputId": "2cc972fc-5837-4b46-ccca-0bfacf0189c1"
      },
      "execution_count": 3,
      "outputs": [
        {
          "output_type": "stream",
          "name": "stdout",
          "text": [
            "Requirement already satisfied: scikit-learn in /usr/local/lib/python3.11/dist-packages (1.6.1)\n",
            "Requirement already satisfied: pandas in /usr/local/lib/python3.11/dist-packages (2.2.2)\n",
            "Requirement already satisfied: matplotlib in /usr/local/lib/python3.11/dist-packages (3.10.0)\n",
            "Requirement already satisfied: seaborn in /usr/local/lib/python3.11/dist-packages (0.13.2)\n",
            "Requirement already satisfied: numpy>=1.19.5 in /usr/local/lib/python3.11/dist-packages (from scikit-learn) (2.0.2)\n",
            "Requirement already satisfied: scipy>=1.6.0 in /usr/local/lib/python3.11/dist-packages (from scikit-learn) (1.16.1)\n",
            "Requirement already satisfied: joblib>=1.2.0 in /usr/local/lib/python3.11/dist-packages (from scikit-learn) (1.5.1)\n",
            "Requirement already satisfied: threadpoolctl>=3.1.0 in /usr/local/lib/python3.11/dist-packages (from scikit-learn) (3.6.0)\n",
            "Requirement already satisfied: python-dateutil>=2.8.2 in /usr/local/lib/python3.11/dist-packages (from pandas) (2.9.0.post0)\n",
            "Requirement already satisfied: pytz>=2020.1 in /usr/local/lib/python3.11/dist-packages (from pandas) (2025.2)\n",
            "Requirement already satisfied: tzdata>=2022.7 in /usr/local/lib/python3.11/dist-packages (from pandas) (2025.2)\n",
            "Requirement already satisfied: contourpy>=1.0.1 in /usr/local/lib/python3.11/dist-packages (from matplotlib) (1.3.3)\n",
            "Requirement already satisfied: cycler>=0.10 in /usr/local/lib/python3.11/dist-packages (from matplotlib) (0.12.1)\n",
            "Requirement already satisfied: fonttools>=4.22.0 in /usr/local/lib/python3.11/dist-packages (from matplotlib) (4.59.0)\n",
            "Requirement already satisfied: kiwisolver>=1.3.1 in /usr/local/lib/python3.11/dist-packages (from matplotlib) (1.4.9)\n",
            "Requirement already satisfied: packaging>=20.0 in /usr/local/lib/python3.11/dist-packages (from matplotlib) (25.0)\n",
            "Requirement already satisfied: pillow>=8 in /usr/local/lib/python3.11/dist-packages (from matplotlib) (11.3.0)\n",
            "Requirement already satisfied: pyparsing>=2.3.1 in /usr/local/lib/python3.11/dist-packages (from matplotlib) (3.2.3)\n",
            "Requirement already satisfied: six>=1.5 in /usr/local/lib/python3.11/dist-packages (from python-dateutil>=2.8.2->pandas) (1.17.0)\n"
          ]
        }
      ]
    },
    {
      "cell_type": "code",
      "source": [
        "# Paste in Colab cell 1 - ACCURATE ML workflow\n",
        "!pip install plotly numpy\n",
        "\n",
        "import plotly.graph_objects as go\n",
        "import numpy as np\n",
        "\n",
        "# Create realistic ML architecture diagram\n",
        "fig = go.Figure()\n",
        "\n",
        "# Input layer (features)\n",
        "fig.add_trace(go.Scatter(\n",
        "    x=[1]*10,\n",
        "    y=np.linspace(0, 9, 10),\n",
        "    mode='markers',\n",
        "    marker=dict(size=12, color='blue'),\n",
        "    name='Input Features'\n",
        "))\n",
        "\n",
        "# Hidden layers (simplified NN)\n",
        "for i in [2, 3]:\n",
        "    fig.add_trace(go.Scatter(\n",
        "        x=[i]*8,\n",
        "        y=np.linspace(1, 8, 8),\n",
        "        mode='markers',\n",
        "        marker=dict(size=10, color='purple'),\n",
        "        name=f'Hidden Layer {i-1}'\n",
        "    ))\n",
        "\n",
        "# Output layer (single prediction)\n",
        "fig.add_trace(go.Scatter(\n",
        "    x=[4],\n",
        "    y=[4.5],\n",
        "    mode='markers',\n",
        "    marker=dict(size=15, color='red', symbol='diamond'),\n",
        "    name='Prediction Output'\n",
        "))\n",
        "\n",
        "# Connect with proper lines\n",
        "for i in range(10):\n",
        "    for j in range(8):\n",
        "        fig.add_trace(go.Scatter(\n",
        "            x=[1, 2], y=[i, j],\n",
        "            mode='lines',\n",
        "            line=dict(color='gray', width=0.5),\n",
        "            showlegend=False\n",
        "        ))\n",
        "\n",
        "for i in range(8):\n",
        "    for j in range(8):\n",
        "        fig.add_trace(go.Scatter(\n",
        "            x=[2, 3], y=[i, j],\n",
        "            mode='lines',\n",
        "            line=dict(color='gray', width=0.5),\n",
        "            showlegend=False\n",
        "        ))\n",
        "\n",
        "for i in range(8):\n",
        "    fig.add_trace(go.Scatter(\n",
        "        x=[3, 4], y=[i, 4.5],\n",
        "        mode='lines',\n",
        "        line=dict(color='gray', width=1.5),\n",
        "        showlegend=False\n",
        "    ))\n",
        "\n",
        "fig.update_layout(\n",
        "    title=\"Machine Learning: Discriminative Model Architecture\",\n",
        "    xaxis=dict(range=[0, 5], showticklabels=False, title=\"Model Depth\"),\n",
        "    yaxis=dict(range=[-1, 10], showticklabels=False, title=\"Neurons\"),\n",
        "    height=500,\n",
        "    annotations=[\n",
        "        dict(x=1, y=10, text=\"Input: Labeled Data (X,y)\",\n",
        "             showarrow=False, font_size=12),\n",
        "        dict(x=4, y=10, text=\"Output: P(y|X) - Probability of Label\",\n",
        "             showarrow=False, font_size=12),\n",
        "        dict(x=2.5, y=-0.5, text=\"Learns decision boundary between classes\",\n",
        "             showarrow=False, font_size=14, font_weight=\"bold\")\n",
        "    ]\n",
        ")\n",
        "\n",
        "fig.show()"
      ],
      "metadata": {
        "colab": {
          "base_uri": "https://localhost:8080/",
          "height": 588
        },
        "id": "QHUk9wPgX7TA",
        "outputId": "6cc5d6d7-7c0d-4e0d-ac86-2305ce0af441"
      },
      "execution_count": 4,
      "outputs": [
        {
          "output_type": "stream",
          "name": "stdout",
          "text": [
            "Requirement already satisfied: plotly in /usr/local/lib/python3.11/dist-packages (5.24.1)\n",
            "Requirement already satisfied: numpy in /usr/local/lib/python3.11/dist-packages (2.0.2)\n",
            "Requirement already satisfied: tenacity>=6.2.0 in /usr/local/lib/python3.11/dist-packages (from plotly) (9.1.2)\n",
            "Requirement already satisfied: packaging in /usr/local/lib/python3.11/dist-packages (from plotly) (25.0)\n"
          ]
        },
        {
          "output_type": "display_data",
          "data": {
            "text/html": [
              "<html>\n",
              "<head><meta charset=\"utf-8\" /></head>\n",
              "<body>\n",
              "    <div>            <script src=\"https://cdnjs.cloudflare.com/ajax/libs/mathjax/2.7.5/MathJax.js?config=TeX-AMS-MML_SVG\"></script><script type=\"text/javascript\">if (window.MathJax && window.MathJax.Hub && window.MathJax.Hub.Config) {window.MathJax.Hub.Config({SVG: {font: \"STIX-Web\"}});}</script>                <script type=\"text/javascript\">window.PlotlyConfig = {MathJaxConfig: 'local'};</script>\n",
              "        <script charset=\"utf-8\" src=\"https://cdn.plot.ly/plotly-2.35.2.min.js\"></script>                <div id=\"c27b1b36-9485-42c9-99ed-3fa3a72a20df\" class=\"plotly-graph-div\" style=\"height:500px; width:100%;\"></div>            <script type=\"text/javascript\">                                    window.PLOTLYENV=window.PLOTLYENV || {};                                    if (document.getElementById(\"c27b1b36-9485-42c9-99ed-3fa3a72a20df\")) {                    Plotly.newPlot(                        \"c27b1b36-9485-42c9-99ed-3fa3a72a20df\",                        [{\"marker\":{\"color\":\"blue\",\"size\":12},\"mode\":\"markers\",\"name\":\"Input Features\",\"x\":[1,1,1,1,1,1,1,1,1,1],\"y\":[0.0,1.0,2.0,3.0,4.0,5.0,6.0,7.0,8.0,9.0],\"type\":\"scatter\"},{\"marker\":{\"color\":\"purple\",\"size\":10},\"mode\":\"markers\",\"name\":\"Hidden Layer 1\",\"x\":[2,2,2,2,2,2,2,2],\"y\":[1.0,2.0,3.0,4.0,5.0,6.0,7.0,8.0],\"type\":\"scatter\"},{\"marker\":{\"color\":\"purple\",\"size\":10},\"mode\":\"markers\",\"name\":\"Hidden Layer 2\",\"x\":[3,3,3,3,3,3,3,3],\"y\":[1.0,2.0,3.0,4.0,5.0,6.0,7.0,8.0],\"type\":\"scatter\"},{\"marker\":{\"color\":\"red\",\"size\":15,\"symbol\":\"diamond\"},\"mode\":\"markers\",\"name\":\"Prediction Output\",\"x\":[4],\"y\":[4.5],\"type\":\"scatter\"},{\"line\":{\"color\":\"gray\",\"width\":0.5},\"mode\":\"lines\",\"showlegend\":false,\"x\":[1,2],\"y\":[0,0],\"type\":\"scatter\"},{\"line\":{\"color\":\"gray\",\"width\":0.5},\"mode\":\"lines\",\"showlegend\":false,\"x\":[1,2],\"y\":[0,1],\"type\":\"scatter\"},{\"line\":{\"color\":\"gray\",\"width\":0.5},\"mode\":\"lines\",\"showlegend\":false,\"x\":[1,2],\"y\":[0,2],\"type\":\"scatter\"},{\"line\":{\"color\":\"gray\",\"width\":0.5},\"mode\":\"lines\",\"showlegend\":false,\"x\":[1,2],\"y\":[0,3],\"type\":\"scatter\"},{\"line\":{\"color\":\"gray\",\"width\":0.5},\"mode\":\"lines\",\"showlegend\":false,\"x\":[1,2],\"y\":[0,4],\"type\":\"scatter\"},{\"line\":{\"color\":\"gray\",\"width\":0.5},\"mode\":\"lines\",\"showlegend\":false,\"x\":[1,2],\"y\":[0,5],\"type\":\"scatter\"},{\"line\":{\"color\":\"gray\",\"width\":0.5},\"mode\":\"lines\",\"showlegend\":false,\"x\":[1,2],\"y\":[0,6],\"type\":\"scatter\"},{\"line\":{\"color\":\"gray\",\"width\":0.5},\"mode\":\"lines\",\"showlegend\":false,\"x\":[1,2],\"y\":[0,7],\"type\":\"scatter\"},{\"line\":{\"color\":\"gray\",\"width\":0.5},\"mode\":\"lines\",\"showlegend\":false,\"x\":[1,2],\"y\":[1,0],\"type\":\"scatter\"},{\"line\":{\"color\":\"gray\",\"width\":0.5},\"mode\":\"lines\",\"showlegend\":false,\"x\":[1,2],\"y\":[1,1],\"type\":\"scatter\"},{\"line\":{\"color\":\"gray\",\"width\":0.5},\"mode\":\"lines\",\"showlegend\":false,\"x\":[1,2],\"y\":[1,2],\"type\":\"scatter\"},{\"line\":{\"color\":\"gray\",\"width\":0.5},\"mode\":\"lines\",\"showlegend\":false,\"x\":[1,2],\"y\":[1,3],\"type\":\"scatter\"},{\"line\":{\"color\":\"gray\",\"width\":0.5},\"mode\":\"lines\",\"showlegend\":false,\"x\":[1,2],\"y\":[1,4],\"type\":\"scatter\"},{\"line\":{\"color\":\"gray\",\"width\":0.5},\"mode\":\"lines\",\"showlegend\":false,\"x\":[1,2],\"y\":[1,5],\"type\":\"scatter\"},{\"line\":{\"color\":\"gray\",\"width\":0.5},\"mode\":\"lines\",\"showlegend\":false,\"x\":[1,2],\"y\":[1,6],\"type\":\"scatter\"},{\"line\":{\"color\":\"gray\",\"width\":0.5},\"mode\":\"lines\",\"showlegend\":false,\"x\":[1,2],\"y\":[1,7],\"type\":\"scatter\"},{\"line\":{\"color\":\"gray\",\"width\":0.5},\"mode\":\"lines\",\"showlegend\":false,\"x\":[1,2],\"y\":[2,0],\"type\":\"scatter\"},{\"line\":{\"color\":\"gray\",\"width\":0.5},\"mode\":\"lines\",\"showlegend\":false,\"x\":[1,2],\"y\":[2,1],\"type\":\"scatter\"},{\"line\":{\"color\":\"gray\",\"width\":0.5},\"mode\":\"lines\",\"showlegend\":false,\"x\":[1,2],\"y\":[2,2],\"type\":\"scatter\"},{\"line\":{\"color\":\"gray\",\"width\":0.5},\"mode\":\"lines\",\"showlegend\":false,\"x\":[1,2],\"y\":[2,3],\"type\":\"scatter\"},{\"line\":{\"color\":\"gray\",\"width\":0.5},\"mode\":\"lines\",\"showlegend\":false,\"x\":[1,2],\"y\":[2,4],\"type\":\"scatter\"},{\"line\":{\"color\":\"gray\",\"width\":0.5},\"mode\":\"lines\",\"showlegend\":false,\"x\":[1,2],\"y\":[2,5],\"type\":\"scatter\"},{\"line\":{\"color\":\"gray\",\"width\":0.5},\"mode\":\"lines\",\"showlegend\":false,\"x\":[1,2],\"y\":[2,6],\"type\":\"scatter\"},{\"line\":{\"color\":\"gray\",\"width\":0.5},\"mode\":\"lines\",\"showlegend\":false,\"x\":[1,2],\"y\":[2,7],\"type\":\"scatter\"},{\"line\":{\"color\":\"gray\",\"width\":0.5},\"mode\":\"lines\",\"showlegend\":false,\"x\":[1,2],\"y\":[3,0],\"type\":\"scatter\"},{\"line\":{\"color\":\"gray\",\"width\":0.5},\"mode\":\"lines\",\"showlegend\":false,\"x\":[1,2],\"y\":[3,1],\"type\":\"scatter\"},{\"line\":{\"color\":\"gray\",\"width\":0.5},\"mode\":\"lines\",\"showlegend\":false,\"x\":[1,2],\"y\":[3,2],\"type\":\"scatter\"},{\"line\":{\"color\":\"gray\",\"width\":0.5},\"mode\":\"lines\",\"showlegend\":false,\"x\":[1,2],\"y\":[3,3],\"type\":\"scatter\"},{\"line\":{\"color\":\"gray\",\"width\":0.5},\"mode\":\"lines\",\"showlegend\":false,\"x\":[1,2],\"y\":[3,4],\"type\":\"scatter\"},{\"line\":{\"color\":\"gray\",\"width\":0.5},\"mode\":\"lines\",\"showlegend\":false,\"x\":[1,2],\"y\":[3,5],\"type\":\"scatter\"},{\"line\":{\"color\":\"gray\",\"width\":0.5},\"mode\":\"lines\",\"showlegend\":false,\"x\":[1,2],\"y\":[3,6],\"type\":\"scatter\"},{\"line\":{\"color\":\"gray\",\"width\":0.5},\"mode\":\"lines\",\"showlegend\":false,\"x\":[1,2],\"y\":[3,7],\"type\":\"scatter\"},{\"line\":{\"color\":\"gray\",\"width\":0.5},\"mode\":\"lines\",\"showlegend\":false,\"x\":[1,2],\"y\":[4,0],\"type\":\"scatter\"},{\"line\":{\"color\":\"gray\",\"width\":0.5},\"mode\":\"lines\",\"showlegend\":false,\"x\":[1,2],\"y\":[4,1],\"type\":\"scatter\"},{\"line\":{\"color\":\"gray\",\"width\":0.5},\"mode\":\"lines\",\"showlegend\":false,\"x\":[1,2],\"y\":[4,2],\"type\":\"scatter\"},{\"line\":{\"color\":\"gray\",\"width\":0.5},\"mode\":\"lines\",\"showlegend\":false,\"x\":[1,2],\"y\":[4,3],\"type\":\"scatter\"},{\"line\":{\"color\":\"gray\",\"width\":0.5},\"mode\":\"lines\",\"showlegend\":false,\"x\":[1,2],\"y\":[4,4],\"type\":\"scatter\"},{\"line\":{\"color\":\"gray\",\"width\":0.5},\"mode\":\"lines\",\"showlegend\":false,\"x\":[1,2],\"y\":[4,5],\"type\":\"scatter\"},{\"line\":{\"color\":\"gray\",\"width\":0.5},\"mode\":\"lines\",\"showlegend\":false,\"x\":[1,2],\"y\":[4,6],\"type\":\"scatter\"},{\"line\":{\"color\":\"gray\",\"width\":0.5},\"mode\":\"lines\",\"showlegend\":false,\"x\":[1,2],\"y\":[4,7],\"type\":\"scatter\"},{\"line\":{\"color\":\"gray\",\"width\":0.5},\"mode\":\"lines\",\"showlegend\":false,\"x\":[1,2],\"y\":[5,0],\"type\":\"scatter\"},{\"line\":{\"color\":\"gray\",\"width\":0.5},\"mode\":\"lines\",\"showlegend\":false,\"x\":[1,2],\"y\":[5,1],\"type\":\"scatter\"},{\"line\":{\"color\":\"gray\",\"width\":0.5},\"mode\":\"lines\",\"showlegend\":false,\"x\":[1,2],\"y\":[5,2],\"type\":\"scatter\"},{\"line\":{\"color\":\"gray\",\"width\":0.5},\"mode\":\"lines\",\"showlegend\":false,\"x\":[1,2],\"y\":[5,3],\"type\":\"scatter\"},{\"line\":{\"color\":\"gray\",\"width\":0.5},\"mode\":\"lines\",\"showlegend\":false,\"x\":[1,2],\"y\":[5,4],\"type\":\"scatter\"},{\"line\":{\"color\":\"gray\",\"width\":0.5},\"mode\":\"lines\",\"showlegend\":false,\"x\":[1,2],\"y\":[5,5],\"type\":\"scatter\"},{\"line\":{\"color\":\"gray\",\"width\":0.5},\"mode\":\"lines\",\"showlegend\":false,\"x\":[1,2],\"y\":[5,6],\"type\":\"scatter\"},{\"line\":{\"color\":\"gray\",\"width\":0.5},\"mode\":\"lines\",\"showlegend\":false,\"x\":[1,2],\"y\":[5,7],\"type\":\"scatter\"},{\"line\":{\"color\":\"gray\",\"width\":0.5},\"mode\":\"lines\",\"showlegend\":false,\"x\":[1,2],\"y\":[6,0],\"type\":\"scatter\"},{\"line\":{\"color\":\"gray\",\"width\":0.5},\"mode\":\"lines\",\"showlegend\":false,\"x\":[1,2],\"y\":[6,1],\"type\":\"scatter\"},{\"line\":{\"color\":\"gray\",\"width\":0.5},\"mode\":\"lines\",\"showlegend\":false,\"x\":[1,2],\"y\":[6,2],\"type\":\"scatter\"},{\"line\":{\"color\":\"gray\",\"width\":0.5},\"mode\":\"lines\",\"showlegend\":false,\"x\":[1,2],\"y\":[6,3],\"type\":\"scatter\"},{\"line\":{\"color\":\"gray\",\"width\":0.5},\"mode\":\"lines\",\"showlegend\":false,\"x\":[1,2],\"y\":[6,4],\"type\":\"scatter\"},{\"line\":{\"color\":\"gray\",\"width\":0.5},\"mode\":\"lines\",\"showlegend\":false,\"x\":[1,2],\"y\":[6,5],\"type\":\"scatter\"},{\"line\":{\"color\":\"gray\",\"width\":0.5},\"mode\":\"lines\",\"showlegend\":false,\"x\":[1,2],\"y\":[6,6],\"type\":\"scatter\"},{\"line\":{\"color\":\"gray\",\"width\":0.5},\"mode\":\"lines\",\"showlegend\":false,\"x\":[1,2],\"y\":[6,7],\"type\":\"scatter\"},{\"line\":{\"color\":\"gray\",\"width\":0.5},\"mode\":\"lines\",\"showlegend\":false,\"x\":[1,2],\"y\":[7,0],\"type\":\"scatter\"},{\"line\":{\"color\":\"gray\",\"width\":0.5},\"mode\":\"lines\",\"showlegend\":false,\"x\":[1,2],\"y\":[7,1],\"type\":\"scatter\"},{\"line\":{\"color\":\"gray\",\"width\":0.5},\"mode\":\"lines\",\"showlegend\":false,\"x\":[1,2],\"y\":[7,2],\"type\":\"scatter\"},{\"line\":{\"color\":\"gray\",\"width\":0.5},\"mode\":\"lines\",\"showlegend\":false,\"x\":[1,2],\"y\":[7,3],\"type\":\"scatter\"},{\"line\":{\"color\":\"gray\",\"width\":0.5},\"mode\":\"lines\",\"showlegend\":false,\"x\":[1,2],\"y\":[7,4],\"type\":\"scatter\"},{\"line\":{\"color\":\"gray\",\"width\":0.5},\"mode\":\"lines\",\"showlegend\":false,\"x\":[1,2],\"y\":[7,5],\"type\":\"scatter\"},{\"line\":{\"color\":\"gray\",\"width\":0.5},\"mode\":\"lines\",\"showlegend\":false,\"x\":[1,2],\"y\":[7,6],\"type\":\"scatter\"},{\"line\":{\"color\":\"gray\",\"width\":0.5},\"mode\":\"lines\",\"showlegend\":false,\"x\":[1,2],\"y\":[7,7],\"type\":\"scatter\"},{\"line\":{\"color\":\"gray\",\"width\":0.5},\"mode\":\"lines\",\"showlegend\":false,\"x\":[1,2],\"y\":[8,0],\"type\":\"scatter\"},{\"line\":{\"color\":\"gray\",\"width\":0.5},\"mode\":\"lines\",\"showlegend\":false,\"x\":[1,2],\"y\":[8,1],\"type\":\"scatter\"},{\"line\":{\"color\":\"gray\",\"width\":0.5},\"mode\":\"lines\",\"showlegend\":false,\"x\":[1,2],\"y\":[8,2],\"type\":\"scatter\"},{\"line\":{\"color\":\"gray\",\"width\":0.5},\"mode\":\"lines\",\"showlegend\":false,\"x\":[1,2],\"y\":[8,3],\"type\":\"scatter\"},{\"line\":{\"color\":\"gray\",\"width\":0.5},\"mode\":\"lines\",\"showlegend\":false,\"x\":[1,2],\"y\":[8,4],\"type\":\"scatter\"},{\"line\":{\"color\":\"gray\",\"width\":0.5},\"mode\":\"lines\",\"showlegend\":false,\"x\":[1,2],\"y\":[8,5],\"type\":\"scatter\"},{\"line\":{\"color\":\"gray\",\"width\":0.5},\"mode\":\"lines\",\"showlegend\":false,\"x\":[1,2],\"y\":[8,6],\"type\":\"scatter\"},{\"line\":{\"color\":\"gray\",\"width\":0.5},\"mode\":\"lines\",\"showlegend\":false,\"x\":[1,2],\"y\":[8,7],\"type\":\"scatter\"},{\"line\":{\"color\":\"gray\",\"width\":0.5},\"mode\":\"lines\",\"showlegend\":false,\"x\":[1,2],\"y\":[9,0],\"type\":\"scatter\"},{\"line\":{\"color\":\"gray\",\"width\":0.5},\"mode\":\"lines\",\"showlegend\":false,\"x\":[1,2],\"y\":[9,1],\"type\":\"scatter\"},{\"line\":{\"color\":\"gray\",\"width\":0.5},\"mode\":\"lines\",\"showlegend\":false,\"x\":[1,2],\"y\":[9,2],\"type\":\"scatter\"},{\"line\":{\"color\":\"gray\",\"width\":0.5},\"mode\":\"lines\",\"showlegend\":false,\"x\":[1,2],\"y\":[9,3],\"type\":\"scatter\"},{\"line\":{\"color\":\"gray\",\"width\":0.5},\"mode\":\"lines\",\"showlegend\":false,\"x\":[1,2],\"y\":[9,4],\"type\":\"scatter\"},{\"line\":{\"color\":\"gray\",\"width\":0.5},\"mode\":\"lines\",\"showlegend\":false,\"x\":[1,2],\"y\":[9,5],\"type\":\"scatter\"},{\"line\":{\"color\":\"gray\",\"width\":0.5},\"mode\":\"lines\",\"showlegend\":false,\"x\":[1,2],\"y\":[9,6],\"type\":\"scatter\"},{\"line\":{\"color\":\"gray\",\"width\":0.5},\"mode\":\"lines\",\"showlegend\":false,\"x\":[1,2],\"y\":[9,7],\"type\":\"scatter\"},{\"line\":{\"color\":\"gray\",\"width\":0.5},\"mode\":\"lines\",\"showlegend\":false,\"x\":[2,3],\"y\":[0,0],\"type\":\"scatter\"},{\"line\":{\"color\":\"gray\",\"width\":0.5},\"mode\":\"lines\",\"showlegend\":false,\"x\":[2,3],\"y\":[0,1],\"type\":\"scatter\"},{\"line\":{\"color\":\"gray\",\"width\":0.5},\"mode\":\"lines\",\"showlegend\":false,\"x\":[2,3],\"y\":[0,2],\"type\":\"scatter\"},{\"line\":{\"color\":\"gray\",\"width\":0.5},\"mode\":\"lines\",\"showlegend\":false,\"x\":[2,3],\"y\":[0,3],\"type\":\"scatter\"},{\"line\":{\"color\":\"gray\",\"width\":0.5},\"mode\":\"lines\",\"showlegend\":false,\"x\":[2,3],\"y\":[0,4],\"type\":\"scatter\"},{\"line\":{\"color\":\"gray\",\"width\":0.5},\"mode\":\"lines\",\"showlegend\":false,\"x\":[2,3],\"y\":[0,5],\"type\":\"scatter\"},{\"line\":{\"color\":\"gray\",\"width\":0.5},\"mode\":\"lines\",\"showlegend\":false,\"x\":[2,3],\"y\":[0,6],\"type\":\"scatter\"},{\"line\":{\"color\":\"gray\",\"width\":0.5},\"mode\":\"lines\",\"showlegend\":false,\"x\":[2,3],\"y\":[0,7],\"type\":\"scatter\"},{\"line\":{\"color\":\"gray\",\"width\":0.5},\"mode\":\"lines\",\"showlegend\":false,\"x\":[2,3],\"y\":[1,0],\"type\":\"scatter\"},{\"line\":{\"color\":\"gray\",\"width\":0.5},\"mode\":\"lines\",\"showlegend\":false,\"x\":[2,3],\"y\":[1,1],\"type\":\"scatter\"},{\"line\":{\"color\":\"gray\",\"width\":0.5},\"mode\":\"lines\",\"showlegend\":false,\"x\":[2,3],\"y\":[1,2],\"type\":\"scatter\"},{\"line\":{\"color\":\"gray\",\"width\":0.5},\"mode\":\"lines\",\"showlegend\":false,\"x\":[2,3],\"y\":[1,3],\"type\":\"scatter\"},{\"line\":{\"color\":\"gray\",\"width\":0.5},\"mode\":\"lines\",\"showlegend\":false,\"x\":[2,3],\"y\":[1,4],\"type\":\"scatter\"},{\"line\":{\"color\":\"gray\",\"width\":0.5},\"mode\":\"lines\",\"showlegend\":false,\"x\":[2,3],\"y\":[1,5],\"type\":\"scatter\"},{\"line\":{\"color\":\"gray\",\"width\":0.5},\"mode\":\"lines\",\"showlegend\":false,\"x\":[2,3],\"y\":[1,6],\"type\":\"scatter\"},{\"line\":{\"color\":\"gray\",\"width\":0.5},\"mode\":\"lines\",\"showlegend\":false,\"x\":[2,3],\"y\":[1,7],\"type\":\"scatter\"},{\"line\":{\"color\":\"gray\",\"width\":0.5},\"mode\":\"lines\",\"showlegend\":false,\"x\":[2,3],\"y\":[2,0],\"type\":\"scatter\"},{\"line\":{\"color\":\"gray\",\"width\":0.5},\"mode\":\"lines\",\"showlegend\":false,\"x\":[2,3],\"y\":[2,1],\"type\":\"scatter\"},{\"line\":{\"color\":\"gray\",\"width\":0.5},\"mode\":\"lines\",\"showlegend\":false,\"x\":[2,3],\"y\":[2,2],\"type\":\"scatter\"},{\"line\":{\"color\":\"gray\",\"width\":0.5},\"mode\":\"lines\",\"showlegend\":false,\"x\":[2,3],\"y\":[2,3],\"type\":\"scatter\"},{\"line\":{\"color\":\"gray\",\"width\":0.5},\"mode\":\"lines\",\"showlegend\":false,\"x\":[2,3],\"y\":[2,4],\"type\":\"scatter\"},{\"line\":{\"color\":\"gray\",\"width\":0.5},\"mode\":\"lines\",\"showlegend\":false,\"x\":[2,3],\"y\":[2,5],\"type\":\"scatter\"},{\"line\":{\"color\":\"gray\",\"width\":0.5},\"mode\":\"lines\",\"showlegend\":false,\"x\":[2,3],\"y\":[2,6],\"type\":\"scatter\"},{\"line\":{\"color\":\"gray\",\"width\":0.5},\"mode\":\"lines\",\"showlegend\":false,\"x\":[2,3],\"y\":[2,7],\"type\":\"scatter\"},{\"line\":{\"color\":\"gray\",\"width\":0.5},\"mode\":\"lines\",\"showlegend\":false,\"x\":[2,3],\"y\":[3,0],\"type\":\"scatter\"},{\"line\":{\"color\":\"gray\",\"width\":0.5},\"mode\":\"lines\",\"showlegend\":false,\"x\":[2,3],\"y\":[3,1],\"type\":\"scatter\"},{\"line\":{\"color\":\"gray\",\"width\":0.5},\"mode\":\"lines\",\"showlegend\":false,\"x\":[2,3],\"y\":[3,2],\"type\":\"scatter\"},{\"line\":{\"color\":\"gray\",\"width\":0.5},\"mode\":\"lines\",\"showlegend\":false,\"x\":[2,3],\"y\":[3,3],\"type\":\"scatter\"},{\"line\":{\"color\":\"gray\",\"width\":0.5},\"mode\":\"lines\",\"showlegend\":false,\"x\":[2,3],\"y\":[3,4],\"type\":\"scatter\"},{\"line\":{\"color\":\"gray\",\"width\":0.5},\"mode\":\"lines\",\"showlegend\":false,\"x\":[2,3],\"y\":[3,5],\"type\":\"scatter\"},{\"line\":{\"color\":\"gray\",\"width\":0.5},\"mode\":\"lines\",\"showlegend\":false,\"x\":[2,3],\"y\":[3,6],\"type\":\"scatter\"},{\"line\":{\"color\":\"gray\",\"width\":0.5},\"mode\":\"lines\",\"showlegend\":false,\"x\":[2,3],\"y\":[3,7],\"type\":\"scatter\"},{\"line\":{\"color\":\"gray\",\"width\":0.5},\"mode\":\"lines\",\"showlegend\":false,\"x\":[2,3],\"y\":[4,0],\"type\":\"scatter\"},{\"line\":{\"color\":\"gray\",\"width\":0.5},\"mode\":\"lines\",\"showlegend\":false,\"x\":[2,3],\"y\":[4,1],\"type\":\"scatter\"},{\"line\":{\"color\":\"gray\",\"width\":0.5},\"mode\":\"lines\",\"showlegend\":false,\"x\":[2,3],\"y\":[4,2],\"type\":\"scatter\"},{\"line\":{\"color\":\"gray\",\"width\":0.5},\"mode\":\"lines\",\"showlegend\":false,\"x\":[2,3],\"y\":[4,3],\"type\":\"scatter\"},{\"line\":{\"color\":\"gray\",\"width\":0.5},\"mode\":\"lines\",\"showlegend\":false,\"x\":[2,3],\"y\":[4,4],\"type\":\"scatter\"},{\"line\":{\"color\":\"gray\",\"width\":0.5},\"mode\":\"lines\",\"showlegend\":false,\"x\":[2,3],\"y\":[4,5],\"type\":\"scatter\"},{\"line\":{\"color\":\"gray\",\"width\":0.5},\"mode\":\"lines\",\"showlegend\":false,\"x\":[2,3],\"y\":[4,6],\"type\":\"scatter\"},{\"line\":{\"color\":\"gray\",\"width\":0.5},\"mode\":\"lines\",\"showlegend\":false,\"x\":[2,3],\"y\":[4,7],\"type\":\"scatter\"},{\"line\":{\"color\":\"gray\",\"width\":0.5},\"mode\":\"lines\",\"showlegend\":false,\"x\":[2,3],\"y\":[5,0],\"type\":\"scatter\"},{\"line\":{\"color\":\"gray\",\"width\":0.5},\"mode\":\"lines\",\"showlegend\":false,\"x\":[2,3],\"y\":[5,1],\"type\":\"scatter\"},{\"line\":{\"color\":\"gray\",\"width\":0.5},\"mode\":\"lines\",\"showlegend\":false,\"x\":[2,3],\"y\":[5,2],\"type\":\"scatter\"},{\"line\":{\"color\":\"gray\",\"width\":0.5},\"mode\":\"lines\",\"showlegend\":false,\"x\":[2,3],\"y\":[5,3],\"type\":\"scatter\"},{\"line\":{\"color\":\"gray\",\"width\":0.5},\"mode\":\"lines\",\"showlegend\":false,\"x\":[2,3],\"y\":[5,4],\"type\":\"scatter\"},{\"line\":{\"color\":\"gray\",\"width\":0.5},\"mode\":\"lines\",\"showlegend\":false,\"x\":[2,3],\"y\":[5,5],\"type\":\"scatter\"},{\"line\":{\"color\":\"gray\",\"width\":0.5},\"mode\":\"lines\",\"showlegend\":false,\"x\":[2,3],\"y\":[5,6],\"type\":\"scatter\"},{\"line\":{\"color\":\"gray\",\"width\":0.5},\"mode\":\"lines\",\"showlegend\":false,\"x\":[2,3],\"y\":[5,7],\"type\":\"scatter\"},{\"line\":{\"color\":\"gray\",\"width\":0.5},\"mode\":\"lines\",\"showlegend\":false,\"x\":[2,3],\"y\":[6,0],\"type\":\"scatter\"},{\"line\":{\"color\":\"gray\",\"width\":0.5},\"mode\":\"lines\",\"showlegend\":false,\"x\":[2,3],\"y\":[6,1],\"type\":\"scatter\"},{\"line\":{\"color\":\"gray\",\"width\":0.5},\"mode\":\"lines\",\"showlegend\":false,\"x\":[2,3],\"y\":[6,2],\"type\":\"scatter\"},{\"line\":{\"color\":\"gray\",\"width\":0.5},\"mode\":\"lines\",\"showlegend\":false,\"x\":[2,3],\"y\":[6,3],\"type\":\"scatter\"},{\"line\":{\"color\":\"gray\",\"width\":0.5},\"mode\":\"lines\",\"showlegend\":false,\"x\":[2,3],\"y\":[6,4],\"type\":\"scatter\"},{\"line\":{\"color\":\"gray\",\"width\":0.5},\"mode\":\"lines\",\"showlegend\":false,\"x\":[2,3],\"y\":[6,5],\"type\":\"scatter\"},{\"line\":{\"color\":\"gray\",\"width\":0.5},\"mode\":\"lines\",\"showlegend\":false,\"x\":[2,3],\"y\":[6,6],\"type\":\"scatter\"},{\"line\":{\"color\":\"gray\",\"width\":0.5},\"mode\":\"lines\",\"showlegend\":false,\"x\":[2,3],\"y\":[6,7],\"type\":\"scatter\"},{\"line\":{\"color\":\"gray\",\"width\":0.5},\"mode\":\"lines\",\"showlegend\":false,\"x\":[2,3],\"y\":[7,0],\"type\":\"scatter\"},{\"line\":{\"color\":\"gray\",\"width\":0.5},\"mode\":\"lines\",\"showlegend\":false,\"x\":[2,3],\"y\":[7,1],\"type\":\"scatter\"},{\"line\":{\"color\":\"gray\",\"width\":0.5},\"mode\":\"lines\",\"showlegend\":false,\"x\":[2,3],\"y\":[7,2],\"type\":\"scatter\"},{\"line\":{\"color\":\"gray\",\"width\":0.5},\"mode\":\"lines\",\"showlegend\":false,\"x\":[2,3],\"y\":[7,3],\"type\":\"scatter\"},{\"line\":{\"color\":\"gray\",\"width\":0.5},\"mode\":\"lines\",\"showlegend\":false,\"x\":[2,3],\"y\":[7,4],\"type\":\"scatter\"},{\"line\":{\"color\":\"gray\",\"width\":0.5},\"mode\":\"lines\",\"showlegend\":false,\"x\":[2,3],\"y\":[7,5],\"type\":\"scatter\"},{\"line\":{\"color\":\"gray\",\"width\":0.5},\"mode\":\"lines\",\"showlegend\":false,\"x\":[2,3],\"y\":[7,6],\"type\":\"scatter\"},{\"line\":{\"color\":\"gray\",\"width\":0.5},\"mode\":\"lines\",\"showlegend\":false,\"x\":[2,3],\"y\":[7,7],\"type\":\"scatter\"},{\"line\":{\"color\":\"gray\",\"width\":1.5},\"mode\":\"lines\",\"showlegend\":false,\"x\":[3,4],\"y\":[0,4.5],\"type\":\"scatter\"},{\"line\":{\"color\":\"gray\",\"width\":1.5},\"mode\":\"lines\",\"showlegend\":false,\"x\":[3,4],\"y\":[1,4.5],\"type\":\"scatter\"},{\"line\":{\"color\":\"gray\",\"width\":1.5},\"mode\":\"lines\",\"showlegend\":false,\"x\":[3,4],\"y\":[2,4.5],\"type\":\"scatter\"},{\"line\":{\"color\":\"gray\",\"width\":1.5},\"mode\":\"lines\",\"showlegend\":false,\"x\":[3,4],\"y\":[3,4.5],\"type\":\"scatter\"},{\"line\":{\"color\":\"gray\",\"width\":1.5},\"mode\":\"lines\",\"showlegend\":false,\"x\":[3,4],\"y\":[4,4.5],\"type\":\"scatter\"},{\"line\":{\"color\":\"gray\",\"width\":1.5},\"mode\":\"lines\",\"showlegend\":false,\"x\":[3,4],\"y\":[5,4.5],\"type\":\"scatter\"},{\"line\":{\"color\":\"gray\",\"width\":1.5},\"mode\":\"lines\",\"showlegend\":false,\"x\":[3,4],\"y\":[6,4.5],\"type\":\"scatter\"},{\"line\":{\"color\":\"gray\",\"width\":1.5},\"mode\":\"lines\",\"showlegend\":false,\"x\":[3,4],\"y\":[7,4.5],\"type\":\"scatter\"}],                        {\"template\":{\"data\":{\"histogram2dcontour\":[{\"type\":\"histogram2dcontour\",\"colorbar\":{\"outlinewidth\":0,\"ticks\":\"\"},\"colorscale\":[[0.0,\"#0d0887\"],[0.1111111111111111,\"#46039f\"],[0.2222222222222222,\"#7201a8\"],[0.3333333333333333,\"#9c179e\"],[0.4444444444444444,\"#bd3786\"],[0.5555555555555556,\"#d8576b\"],[0.6666666666666666,\"#ed7953\"],[0.7777777777777778,\"#fb9f3a\"],[0.8888888888888888,\"#fdca26\"],[1.0,\"#f0f921\"]]}],\"choropleth\":[{\"type\":\"choropleth\",\"colorbar\":{\"outlinewidth\":0,\"ticks\":\"\"}}],\"histogram2d\":[{\"type\":\"histogram2d\",\"colorbar\":{\"outlinewidth\":0,\"ticks\":\"\"},\"colorscale\":[[0.0,\"#0d0887\"],[0.1111111111111111,\"#46039f\"],[0.2222222222222222,\"#7201a8\"],[0.3333333333333333,\"#9c179e\"],[0.4444444444444444,\"#bd3786\"],[0.5555555555555556,\"#d8576b\"],[0.6666666666666666,\"#ed7953\"],[0.7777777777777778,\"#fb9f3a\"],[0.8888888888888888,\"#fdca26\"],[1.0,\"#f0f921\"]]}],\"heatmap\":[{\"type\":\"heatmap\",\"colorbar\":{\"outlinewidth\":0,\"ticks\":\"\"},\"colorscale\":[[0.0,\"#0d0887\"],[0.1111111111111111,\"#46039f\"],[0.2222222222222222,\"#7201a8\"],[0.3333333333333333,\"#9c179e\"],[0.4444444444444444,\"#bd3786\"],[0.5555555555555556,\"#d8576b\"],[0.6666666666666666,\"#ed7953\"],[0.7777777777777778,\"#fb9f3a\"],[0.8888888888888888,\"#fdca26\"],[1.0,\"#f0f921\"]]}],\"heatmapgl\":[{\"type\":\"heatmapgl\",\"colorbar\":{\"outlinewidth\":0,\"ticks\":\"\"},\"colorscale\":[[0.0,\"#0d0887\"],[0.1111111111111111,\"#46039f\"],[0.2222222222222222,\"#7201a8\"],[0.3333333333333333,\"#9c179e\"],[0.4444444444444444,\"#bd3786\"],[0.5555555555555556,\"#d8576b\"],[0.6666666666666666,\"#ed7953\"],[0.7777777777777778,\"#fb9f3a\"],[0.8888888888888888,\"#fdca26\"],[1.0,\"#f0f921\"]]}],\"contourcarpet\":[{\"type\":\"contourcarpet\",\"colorbar\":{\"outlinewidth\":0,\"ticks\":\"\"}}],\"contour\":[{\"type\":\"contour\",\"colorbar\":{\"outlinewidth\":0,\"ticks\":\"\"},\"colorscale\":[[0.0,\"#0d0887\"],[0.1111111111111111,\"#46039f\"],[0.2222222222222222,\"#7201a8\"],[0.3333333333333333,\"#9c179e\"],[0.4444444444444444,\"#bd3786\"],[0.5555555555555556,\"#d8576b\"],[0.6666666666666666,\"#ed7953\"],[0.7777777777777778,\"#fb9f3a\"],[0.8888888888888888,\"#fdca26\"],[1.0,\"#f0f921\"]]}],\"surface\":[{\"type\":\"surface\",\"colorbar\":{\"outlinewidth\":0,\"ticks\":\"\"},\"colorscale\":[[0.0,\"#0d0887\"],[0.1111111111111111,\"#46039f\"],[0.2222222222222222,\"#7201a8\"],[0.3333333333333333,\"#9c179e\"],[0.4444444444444444,\"#bd3786\"],[0.5555555555555556,\"#d8576b\"],[0.6666666666666666,\"#ed7953\"],[0.7777777777777778,\"#fb9f3a\"],[0.8888888888888888,\"#fdca26\"],[1.0,\"#f0f921\"]]}],\"mesh3d\":[{\"type\":\"mesh3d\",\"colorbar\":{\"outlinewidth\":0,\"ticks\":\"\"}}],\"scatter\":[{\"fillpattern\":{\"fillmode\":\"overlay\",\"size\":10,\"solidity\":0.2},\"type\":\"scatter\"}],\"parcoords\":[{\"type\":\"parcoords\",\"line\":{\"colorbar\":{\"outlinewidth\":0,\"ticks\":\"\"}}}],\"scatterpolargl\":[{\"type\":\"scatterpolargl\",\"marker\":{\"colorbar\":{\"outlinewidth\":0,\"ticks\":\"\"}}}],\"bar\":[{\"error_x\":{\"color\":\"#2a3f5f\"},\"error_y\":{\"color\":\"#2a3f5f\"},\"marker\":{\"line\":{\"color\":\"#E5ECF6\",\"width\":0.5},\"pattern\":{\"fillmode\":\"overlay\",\"size\":10,\"solidity\":0.2}},\"type\":\"bar\"}],\"scattergeo\":[{\"type\":\"scattergeo\",\"marker\":{\"colorbar\":{\"outlinewidth\":0,\"ticks\":\"\"}}}],\"scatterpolar\":[{\"type\":\"scatterpolar\",\"marker\":{\"colorbar\":{\"outlinewidth\":0,\"ticks\":\"\"}}}],\"histogram\":[{\"marker\":{\"pattern\":{\"fillmode\":\"overlay\",\"size\":10,\"solidity\":0.2}},\"type\":\"histogram\"}],\"scattergl\":[{\"type\":\"scattergl\",\"marker\":{\"colorbar\":{\"outlinewidth\":0,\"ticks\":\"\"}}}],\"scatter3d\":[{\"type\":\"scatter3d\",\"line\":{\"colorbar\":{\"outlinewidth\":0,\"ticks\":\"\"}},\"marker\":{\"colorbar\":{\"outlinewidth\":0,\"ticks\":\"\"}}}],\"scattermapbox\":[{\"type\":\"scattermapbox\",\"marker\":{\"colorbar\":{\"outlinewidth\":0,\"ticks\":\"\"}}}],\"scatterternary\":[{\"type\":\"scatterternary\",\"marker\":{\"colorbar\":{\"outlinewidth\":0,\"ticks\":\"\"}}}],\"scattercarpet\":[{\"type\":\"scattercarpet\",\"marker\":{\"colorbar\":{\"outlinewidth\":0,\"ticks\":\"\"}}}],\"carpet\":[{\"aaxis\":{\"endlinecolor\":\"#2a3f5f\",\"gridcolor\":\"white\",\"linecolor\":\"white\",\"minorgridcolor\":\"white\",\"startlinecolor\":\"#2a3f5f\"},\"baxis\":{\"endlinecolor\":\"#2a3f5f\",\"gridcolor\":\"white\",\"linecolor\":\"white\",\"minorgridcolor\":\"white\",\"startlinecolor\":\"#2a3f5f\"},\"type\":\"carpet\"}],\"table\":[{\"cells\":{\"fill\":{\"color\":\"#EBF0F8\"},\"line\":{\"color\":\"white\"}},\"header\":{\"fill\":{\"color\":\"#C8D4E3\"},\"line\":{\"color\":\"white\"}},\"type\":\"table\"}],\"barpolar\":[{\"marker\":{\"line\":{\"color\":\"#E5ECF6\",\"width\":0.5},\"pattern\":{\"fillmode\":\"overlay\",\"size\":10,\"solidity\":0.2}},\"type\":\"barpolar\"}],\"pie\":[{\"automargin\":true,\"type\":\"pie\"}]},\"layout\":{\"autotypenumbers\":\"strict\",\"colorway\":[\"#636efa\",\"#EF553B\",\"#00cc96\",\"#ab63fa\",\"#FFA15A\",\"#19d3f3\",\"#FF6692\",\"#B6E880\",\"#FF97FF\",\"#FECB52\"],\"font\":{\"color\":\"#2a3f5f\"},\"hovermode\":\"closest\",\"hoverlabel\":{\"align\":\"left\"},\"paper_bgcolor\":\"white\",\"plot_bgcolor\":\"#E5ECF6\",\"polar\":{\"bgcolor\":\"#E5ECF6\",\"angularaxis\":{\"gridcolor\":\"white\",\"linecolor\":\"white\",\"ticks\":\"\"},\"radialaxis\":{\"gridcolor\":\"white\",\"linecolor\":\"white\",\"ticks\":\"\"}},\"ternary\":{\"bgcolor\":\"#E5ECF6\",\"aaxis\":{\"gridcolor\":\"white\",\"linecolor\":\"white\",\"ticks\":\"\"},\"baxis\":{\"gridcolor\":\"white\",\"linecolor\":\"white\",\"ticks\":\"\"},\"caxis\":{\"gridcolor\":\"white\",\"linecolor\":\"white\",\"ticks\":\"\"}},\"coloraxis\":{\"colorbar\":{\"outlinewidth\":0,\"ticks\":\"\"}},\"colorscale\":{\"sequential\":[[0.0,\"#0d0887\"],[0.1111111111111111,\"#46039f\"],[0.2222222222222222,\"#7201a8\"],[0.3333333333333333,\"#9c179e\"],[0.4444444444444444,\"#bd3786\"],[0.5555555555555556,\"#d8576b\"],[0.6666666666666666,\"#ed7953\"],[0.7777777777777778,\"#fb9f3a\"],[0.8888888888888888,\"#fdca26\"],[1.0,\"#f0f921\"]],\"sequentialminus\":[[0.0,\"#0d0887\"],[0.1111111111111111,\"#46039f\"],[0.2222222222222222,\"#7201a8\"],[0.3333333333333333,\"#9c179e\"],[0.4444444444444444,\"#bd3786\"],[0.5555555555555556,\"#d8576b\"],[0.6666666666666666,\"#ed7953\"],[0.7777777777777778,\"#fb9f3a\"],[0.8888888888888888,\"#fdca26\"],[1.0,\"#f0f921\"]],\"diverging\":[[0,\"#8e0152\"],[0.1,\"#c51b7d\"],[0.2,\"#de77ae\"],[0.3,\"#f1b6da\"],[0.4,\"#fde0ef\"],[0.5,\"#f7f7f7\"],[0.6,\"#e6f5d0\"],[0.7,\"#b8e186\"],[0.8,\"#7fbc41\"],[0.9,\"#4d9221\"],[1,\"#276419\"]]},\"xaxis\":{\"gridcolor\":\"white\",\"linecolor\":\"white\",\"ticks\":\"\",\"title\":{\"standoff\":15},\"zerolinecolor\":\"white\",\"automargin\":true,\"zerolinewidth\":2},\"yaxis\":{\"gridcolor\":\"white\",\"linecolor\":\"white\",\"ticks\":\"\",\"title\":{\"standoff\":15},\"zerolinecolor\":\"white\",\"automargin\":true,\"zerolinewidth\":2},\"scene\":{\"xaxis\":{\"backgroundcolor\":\"#E5ECF6\",\"gridcolor\":\"white\",\"linecolor\":\"white\",\"showbackground\":true,\"ticks\":\"\",\"zerolinecolor\":\"white\",\"gridwidth\":2},\"yaxis\":{\"backgroundcolor\":\"#E5ECF6\",\"gridcolor\":\"white\",\"linecolor\":\"white\",\"showbackground\":true,\"ticks\":\"\",\"zerolinecolor\":\"white\",\"gridwidth\":2},\"zaxis\":{\"backgroundcolor\":\"#E5ECF6\",\"gridcolor\":\"white\",\"linecolor\":\"white\",\"showbackground\":true,\"ticks\":\"\",\"zerolinecolor\":\"white\",\"gridwidth\":2}},\"shapedefaults\":{\"line\":{\"color\":\"#2a3f5f\"}},\"annotationdefaults\":{\"arrowcolor\":\"#2a3f5f\",\"arrowhead\":0,\"arrowwidth\":1},\"geo\":{\"bgcolor\":\"white\",\"landcolor\":\"#E5ECF6\",\"subunitcolor\":\"white\",\"showland\":true,\"showlakes\":true,\"lakecolor\":\"white\"},\"title\":{\"x\":0.05},\"mapbox\":{\"style\":\"light\"}}},\"xaxis\":{\"range\":[0,5],\"showticklabels\":false,\"title\":{\"text\":\"Model Depth\"}},\"yaxis\":{\"range\":[-1,10],\"showticklabels\":false,\"title\":{\"text\":\"Neurons\"}},\"title\":{\"text\":\"Machine Learning: Discriminative Model Architecture\"},\"height\":500,\"annotations\":[{\"showarrow\":false,\"text\":\"Input: Labeled Data (X,y)\",\"x\":1,\"y\":10,\"font\":{\"size\":12}},{\"showarrow\":false,\"text\":\"Output: P(y|X) - Probability of Label\",\"x\":4,\"y\":10,\"font\":{\"size\":12}},{\"showarrow\":false,\"text\":\"Learns decision boundary between classes\",\"x\":2.5,\"y\":-0.5,\"font\":{\"size\":14,\"weight\":\"bold\"}}]},                        {\"responsive\": true}                    ).then(function(){\n",
              "                            \n",
              "var gd = document.getElementById('c27b1b36-9485-42c9-99ed-3fa3a72a20df');\n",
              "var x = new MutationObserver(function (mutations, observer) {{\n",
              "        var display = window.getComputedStyle(gd).display;\n",
              "        if (!display || display === 'none') {{\n",
              "            console.log([gd, 'removed!']);\n",
              "            Plotly.purge(gd);\n",
              "            observer.disconnect();\n",
              "        }}\n",
              "}});\n",
              "\n",
              "// Listen for the removal of the full notebook cells\n",
              "var notebookContainer = gd.closest('#notebook-container');\n",
              "if (notebookContainer) {{\n",
              "    x.observe(notebookContainer, {childList: true});\n",
              "}}\n",
              "\n",
              "// Listen for the clearing of the current output cell\n",
              "var outputEl = gd.closest('.output');\n",
              "if (outputEl) {{\n",
              "    x.observe(outputEl, {childList: true});\n",
              "}}\n",
              "\n",
              "                        })                };                            </script>        </div>\n",
              "</body>\n",
              "</html>"
            ]
          },
          "metadata": {}
        }
      ]
    }
  ]
}